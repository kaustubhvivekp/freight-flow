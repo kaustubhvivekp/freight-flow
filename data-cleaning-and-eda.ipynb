{
 "cells": [
  {
   "cell_type": "markdown",
   "id": "1519992e",
   "metadata": {},
   "source": [
    "# Shipping & Marine — Data cleaning and EDA\n",
    "\n",
    "This notebook focuses on marine and shipping-related series from the provided Statistics Canada table (23100269).\n",
    "\n",
    "We will: load the CSV, extract 'mode' and 'destination' (keep destinations), classify non-marine modes as 'Others', aggregate TEU / marine measures by month and destination, produce a quick time-series plot, and save a shipping-focused cleaned CSV."
   ]
  },
  {
   "cell_type": "code",
   "execution_count": 1,
   "id": "413e6480",
   "metadata": {},
   "outputs": [
    {
     "name": "stdout",
     "output_type": "stream",
     "text": [
      "Imports ready — data path: 23100269.csv\n"
     ]
    }
   ],
   "source": [
    "# Imports and display settings\n",
    "import pandas as pd\n",
    "import numpy as np\n",
    "import matplotlib.pyplot as plt\n",
    "import seaborn as sns\n",
    "from pathlib import Path\n",
    "sns.set(style=\"whitegrid\")\n",
    "DATA_PATH = Path(\"23100269.csv\")\n",
    "assert DATA_PATH.exists(), f\"Data file not found: {DATA_PATH}\"\n",
    "print('Imports ready — data path:', DATA_PATH)"
   ]
  },
  {
   "cell_type": "code",
   "execution_count": 2,
   "id": "0be0f202",
   "metadata": {},
   "outputs": [
    {
     "name": "stdout",
     "output_type": "stream",
     "text": [
      "Rows loaded: 3441\n"
     ]
    },
    {
     "data": {
      "text/html": [
       "<div>\n",
       "<style scoped>\n",
       "    .dataframe tbody tr th:only-of-type {\n",
       "        vertical-align: middle;\n",
       "    }\n",
       "\n",
       "    .dataframe tbody tr th {\n",
       "        vertical-align: top;\n",
       "    }\n",
       "\n",
       "    .dataframe thead th {\n",
       "        text-align: right;\n",
       "    }\n",
       "</style>\n",
       "<table border=\"1\" class=\"dataframe\">\n",
       "  <thead>\n",
       "    <tr style=\"text-align: right;\">\n",
       "      <th></th>\n",
       "      <th>REF_DATE</th>\n",
       "      <th>GEO</th>\n",
       "      <th>DGUID</th>\n",
       "      <th>Activity indicators</th>\n",
       "      <th>UOM</th>\n",
       "      <th>UOM_ID</th>\n",
       "      <th>SCALAR_FACTOR</th>\n",
       "      <th>SCALAR_ID</th>\n",
       "      <th>VECTOR</th>\n",
       "      <th>COORDINATE</th>\n",
       "      <th>VALUE</th>\n",
       "      <th>STATUS</th>\n",
       "      <th>SYMBOL</th>\n",
       "      <th>TERMINATED</th>\n",
       "      <th>DECIMALS</th>\n",
       "    </tr>\n",
       "  </thead>\n",
       "  <tbody>\n",
       "    <tr>\n",
       "      <th>0</th>\n",
       "      <td>2017-01-01</td>\n",
       "      <td>Canada</td>\n",
       "      <td>2016A000011124</td>\n",
       "      <td>International passengers, number of Canadian a...</td>\n",
       "      <td>Number</td>\n",
       "      <td>223</td>\n",
       "      <td>thousands</td>\n",
       "      <td>3</td>\n",
       "      <td>v1061874463</td>\n",
       "      <td>1.1</td>\n",
       "      <td>4215.0</td>\n",
       "      <td>NaN</td>\n",
       "      <td>NaN</td>\n",
       "      <td>NaN</td>\n",
       "      <td>0</td>\n",
       "    </tr>\n",
       "    <tr>\n",
       "      <th>1</th>\n",
       "      <td>2017-01-01</td>\n",
       "      <td>Canada</td>\n",
       "      <td>2016A000011124</td>\n",
       "      <td>By automobile</td>\n",
       "      <td>Number</td>\n",
       "      <td>223</td>\n",
       "      <td>thousands</td>\n",
       "      <td>3</td>\n",
       "      <td>v1061874464</td>\n",
       "      <td>1.2</td>\n",
       "      <td>3032.0</td>\n",
       "      <td>NaN</td>\n",
       "      <td>NaN</td>\n",
       "      <td>NaN</td>\n",
       "      <td>0</td>\n",
       "    </tr>\n",
       "    <tr>\n",
       "      <th>2</th>\n",
       "      <td>2017-01-01</td>\n",
       "      <td>Canada</td>\n",
       "      <td>2016A000011124</td>\n",
       "      <td>By plane</td>\n",
       "      <td>Number</td>\n",
       "      <td>223</td>\n",
       "      <td>thousands</td>\n",
       "      <td>3</td>\n",
       "      <td>v1061874465</td>\n",
       "      <td>1.3</td>\n",
       "      <td>1055.0</td>\n",
       "      <td>NaN</td>\n",
       "      <td>NaN</td>\n",
       "      <td>NaN</td>\n",
       "      <td>0</td>\n",
       "    </tr>\n",
       "    <tr>\n",
       "      <th>3</th>\n",
       "      <td>2017-01-01</td>\n",
       "      <td>Canada</td>\n",
       "      <td>2016A000011124</td>\n",
       "      <td>By boat, bus, rail and other modes of transpor...</td>\n",
       "      <td>Number</td>\n",
       "      <td>223</td>\n",
       "      <td>thousands</td>\n",
       "      <td>3</td>\n",
       "      <td>v1061874466</td>\n",
       "      <td>1.4</td>\n",
       "      <td>128.0</td>\n",
       "      <td>NaN</td>\n",
       "      <td>NaN</td>\n",
       "      <td>NaN</td>\n",
       "      <td>0</td>\n",
       "    </tr>\n",
       "    <tr>\n",
       "      <th>4</th>\n",
       "      <td>2017-01-01</td>\n",
       "      <td>Canada</td>\n",
       "      <td>2016A000011124</td>\n",
       "      <td>International passengers, number of Canadian a...</td>\n",
       "      <td>Number</td>\n",
       "      <td>223</td>\n",
       "      <td>thousands</td>\n",
       "      <td>3</td>\n",
       "      <td>v1061874467</td>\n",
       "      <td>1.5</td>\n",
       "      <td>1675.0</td>\n",
       "      <td>NaN</td>\n",
       "      <td>NaN</td>\n",
       "      <td>NaN</td>\n",
       "      <td>0</td>\n",
       "    </tr>\n",
       "  </tbody>\n",
       "</table>\n",
       "</div>"
      ],
      "text/plain": [
       "    REF_DATE     GEO           DGUID  \\\n",
       "0 2017-01-01  Canada  2016A000011124   \n",
       "1 2017-01-01  Canada  2016A000011124   \n",
       "2 2017-01-01  Canada  2016A000011124   \n",
       "3 2017-01-01  Canada  2016A000011124   \n",
       "4 2017-01-01  Canada  2016A000011124   \n",
       "\n",
       "                                 Activity indicators     UOM  UOM_ID  \\\n",
       "0  International passengers, number of Canadian a...  Number     223   \n",
       "1                                      By automobile  Number     223   \n",
       "2                                           By plane  Number     223   \n",
       "3  By boat, bus, rail and other modes of transpor...  Number     223   \n",
       "4  International passengers, number of Canadian a...  Number     223   \n",
       "\n",
       "  SCALAR_FACTOR  SCALAR_ID       VECTOR  COORDINATE   VALUE  STATUS  SYMBOL  \\\n",
       "0     thousands          3  v1061874463         1.1  4215.0     NaN     NaN   \n",
       "1     thousands          3  v1061874464         1.2  3032.0     NaN     NaN   \n",
       "2     thousands          3  v1061874465         1.3  1055.0     NaN     NaN   \n",
       "3     thousands          3  v1061874466         1.4   128.0     NaN     NaN   \n",
       "4     thousands          3  v1061874467         1.5  1675.0     NaN     NaN   \n",
       "\n",
       "   TERMINATED  DECIMALS  \n",
       "0         NaN         0  \n",
       "1         NaN         0  \n",
       "2         NaN         0  \n",
       "3         NaN         0  \n",
       "4         NaN         0  "
      ]
     },
     "execution_count": 2,
     "metadata": {},
     "output_type": "execute_result"
    }
   ],
   "source": [
    "# Load the CSV and basic cleaning\n",
    "df = pd.read_csv(DATA_PATH)\n",
    "# REF_DATE values are like '2017-01' — convert to period / datetime (month start)\n",
    "df['REF_DATE'] = pd.to_datetime(df['REF_DATE'].astype(str), format='%Y-%m')\n",
    "# Ensure VALUE is numeric where possible\n",
    "df['VALUE'] = pd.to_numeric(df['VALUE'], errors='coerce')\n",
    "# Short preview\n",
    "print('Rows loaded:', len(df))\n",
    "df.head()"
   ]
  },
  {
   "cell_type": "code",
   "execution_count": 3,
   "id": "69c03f3c",
   "metadata": {},
   "outputs": [
    {
     "name": "stdout",
     "output_type": "stream",
     "text": [
      "Mode value counts:\n",
      " mode\n",
      "Others    2976\n",
      "Marine     372\n",
      "TEU         93\n",
      "Name: count, dtype: int64\n",
      "\n",
      "Sample destinations (top 10):\n",
      "destination\n",
      "Other                                                                                                     930\n",
      "To United States                                                                                          558\n",
      "To Rest Of World                                                                                          558\n",
      "From United States                                                                                        558\n",
      "From Rest Of World                                                                                        558\n",
      "International freight, total twenty-foot equivalent units (TEUs) handled at four major container ports     93\n",
      "Export                                                                                                     93\n",
      "Import                                                                                                     93\n",
      "Name: count, dtype: int64\n"
     ]
    },
    {
     "data": {
      "text/html": [
       "<div>\n",
       "<style scoped>\n",
       "    .dataframe tbody tr th:only-of-type {\n",
       "        vertical-align: middle;\n",
       "    }\n",
       "\n",
       "    .dataframe tbody tr th {\n",
       "        vertical-align: top;\n",
       "    }\n",
       "\n",
       "    .dataframe thead th {\n",
       "        text-align: right;\n",
       "    }\n",
       "</style>\n",
       "<table border=\"1\" class=\"dataframe\">\n",
       "  <thead>\n",
       "    <tr style=\"text-align: right;\">\n",
       "      <th></th>\n",
       "      <th>REF_DATE</th>\n",
       "      <th>Activity indicators</th>\n",
       "      <th>mode</th>\n",
       "      <th>destination</th>\n",
       "      <th>UOM</th>\n",
       "      <th>VALUE</th>\n",
       "    </tr>\n",
       "  </thead>\n",
       "  <tbody>\n",
       "    <tr>\n",
       "      <th>0</th>\n",
       "      <td>2017-01-01</td>\n",
       "      <td>International passengers, number of Canadian a...</td>\n",
       "      <td>Others</td>\n",
       "      <td>Other</td>\n",
       "      <td>Number</td>\n",
       "      <td>4215.0</td>\n",
       "    </tr>\n",
       "    <tr>\n",
       "      <th>1</th>\n",
       "      <td>2017-01-01</td>\n",
       "      <td>By automobile</td>\n",
       "      <td>Others</td>\n",
       "      <td>Other</td>\n",
       "      <td>Number</td>\n",
       "      <td>3032.0</td>\n",
       "    </tr>\n",
       "    <tr>\n",
       "      <th>2</th>\n",
       "      <td>2017-01-01</td>\n",
       "      <td>By plane</td>\n",
       "      <td>Others</td>\n",
       "      <td>Other</td>\n",
       "      <td>Number</td>\n",
       "      <td>1055.0</td>\n",
       "    </tr>\n",
       "    <tr>\n",
       "      <th>3</th>\n",
       "      <td>2017-01-01</td>\n",
       "      <td>By boat, bus, rail and other modes of transpor...</td>\n",
       "      <td>Others</td>\n",
       "      <td>Other</td>\n",
       "      <td>Number</td>\n",
       "      <td>128.0</td>\n",
       "    </tr>\n",
       "    <tr>\n",
       "      <th>4</th>\n",
       "      <td>2017-01-01</td>\n",
       "      <td>International passengers, number of Canadian a...</td>\n",
       "      <td>Others</td>\n",
       "      <td>Other</td>\n",
       "      <td>Number</td>\n",
       "      <td>1675.0</td>\n",
       "    </tr>\n",
       "    <tr>\n",
       "      <th>5</th>\n",
       "      <td>2017-01-01</td>\n",
       "      <td>International freight, number of commercial ve...</td>\n",
       "      <td>Others</td>\n",
       "      <td>Other</td>\n",
       "      <td>Number</td>\n",
       "      <td>434.0</td>\n",
       "    </tr>\n",
       "    <tr>\n",
       "      <th>6</th>\n",
       "      <td>2017-01-01</td>\n",
       "      <td>International freight, total twenty-foot equiv...</td>\n",
       "      <td>TEU</td>\n",
       "      <td>International freight, total twenty-foot equiv...</td>\n",
       "      <td>Twenty feet equivalent units</td>\n",
       "      <td>451.2</td>\n",
       "    </tr>\n",
       "    <tr>\n",
       "      <th>7</th>\n",
       "      <td>2017-01-01</td>\n",
       "      <td>Export</td>\n",
       "      <td>Others</td>\n",
       "      <td>Export</td>\n",
       "      <td>Twenty feet equivalent units</td>\n",
       "      <td>206.9</td>\n",
       "    </tr>\n",
       "    <tr>\n",
       "      <th>8</th>\n",
       "      <td>2017-01-01</td>\n",
       "      <td>Import</td>\n",
       "      <td>Others</td>\n",
       "      <td>Import</td>\n",
       "      <td>Twenty feet equivalent units</td>\n",
       "      <td>244.3</td>\n",
       "    </tr>\n",
       "    <tr>\n",
       "      <th>9</th>\n",
       "      <td>2017-01-01</td>\n",
       "      <td>Merchandise trade, total export of goods</td>\n",
       "      <td>Others</td>\n",
       "      <td>Other</td>\n",
       "      <td>Dollars</td>\n",
       "      <td>44598.0</td>\n",
       "    </tr>\n",
       "  </tbody>\n",
       "</table>\n",
       "</div>"
      ],
      "text/plain": [
       "    REF_DATE                                Activity indicators    mode  \\\n",
       "0 2017-01-01  International passengers, number of Canadian a...  Others   \n",
       "1 2017-01-01                                      By automobile  Others   \n",
       "2 2017-01-01                                           By plane  Others   \n",
       "3 2017-01-01  By boat, bus, rail and other modes of transpor...  Others   \n",
       "4 2017-01-01  International passengers, number of Canadian a...  Others   \n",
       "5 2017-01-01  International freight, number of commercial ve...  Others   \n",
       "6 2017-01-01  International freight, total twenty-foot equiv...     TEU   \n",
       "7 2017-01-01                                             Export  Others   \n",
       "8 2017-01-01                                             Import  Others   \n",
       "9 2017-01-01           Merchandise trade, total export of goods  Others   \n",
       "\n",
       "                                         destination  \\\n",
       "0                                              Other   \n",
       "1                                              Other   \n",
       "2                                              Other   \n",
       "3                                              Other   \n",
       "4                                              Other   \n",
       "5                                              Other   \n",
       "6  International freight, total twenty-foot equiv...   \n",
       "7                                             Export   \n",
       "8                                             Import   \n",
       "9                                              Other   \n",
       "\n",
       "                            UOM    VALUE  \n",
       "0                        Number   4215.0  \n",
       "1                        Number   3032.0  \n",
       "2                        Number   1055.0  \n",
       "3                        Number    128.0  \n",
       "4                        Number   1675.0  \n",
       "5                        Number    434.0  \n",
       "6  Twenty feet equivalent units    451.2  \n",
       "7  Twenty feet equivalent units    206.9  \n",
       "8  Twenty feet equivalent units    244.3  \n",
       "9                       Dollars  44598.0  "
      ]
     },
     "execution_count": 3,
     "metadata": {},
     "output_type": "execute_result"
    }
   ],
   "source": [
    "# Extract mode and destination from 'Activity indicators'\n",
    "act = df['Activity indicators'].astype(str)\n",
    "# Mode detection: Marine, TEU/container (shipping-specific), else Others\n",
    "mode_conditions = [\n",
    "    act.str.contains('Marine', case=False, na=False),\n",
    "    act.str.contains('Twenty feet|TEU|container', case=False, na=False)\n",
    "]\n",
    "mode_choices = ['Marine', 'TEU']\n",
    "df['mode'] = np.select(mode_conditions, mode_choices, default='Others')\n",
    "# Destination/direction extraction\n",
    "# Look for patterns like 'to the United States' / 'from the rest of world'\n",
    "dest_extract = act.str.extract('(?i)\\\\b(to|from) the (United States|rest of world)\\\\b', expand=True)\n",
    "df['direction'] = dest_extract[0].str.lower().map({'to':'To','from':'From'})\n",
    "df['dest_base'] = dest_extract[1].str.title().replace({np.nan: None})\n",
    "# Compose a destination label when direction exists\n",
    "df['destination'] = df.apply(lambda r: f\"{r['direction']} {r['dest_base']}\" if pd.notna(r['direction']) and pd.notna(r['dest_base']) else None, axis=1)\n",
    "# For some shipping TEU series the 'Activity indicators' may not include 'to/from' — set sensible fallbacks:\n",
    "# - If UOM indicates 'Twenty feet equivalent units' and name contains 'Export'/'Import', keep those labels;\n",
    "uom = df['UOM'].astype(str).str.lower()\n",
    "df.loc[df['destination'].isna() & uom.str.contains('twenty', na=False), 'destination'] = df.loc[df['destination'].isna() & uom.str.contains('twenty', na=False), 'Activity indicators']\n",
    "# - If still missing and mode==TEU and description mentions 'container ports', mark as 'Canada (ports total)'\n",
    "mask_ports = df['Activity indicators'].str.contains('container ports|container port|container', case=False, na=False) & (df['destination'].isna())\n",
    "df.loc[mask_ports, 'destination'] = 'Canada (ports total)'\n",
    "# Finally, any remaining destinations -> keep as 'Other' so we still preserve mode info\n",
    "df['destination'] = df['destination'].fillna('Other')\n",
    "# Quick counts\n",
    "print('Mode value counts:\\n', df['mode'].value_counts())\n",
    "print('\\nSample destinations (top 10):')\n",
    "print(df['destination'].value_counts().head(10))\n",
    "df[['REF_DATE','Activity indicators','mode','destination','UOM','VALUE']].head(10)"
   ]
  },
  {
   "cell_type": "code",
   "execution_count": 4,
   "id": "3fe9d617",
   "metadata": {},
   "outputs": [
    {
     "name": "stdout",
     "output_type": "stream",
     "text": [
      "Shipping-focused rows: 465\n"
     ]
    },
    {
     "name": "stderr",
     "output_type": "stream",
     "text": [
      "/var/folders/xq/8str9gd95bqdc16dw13_pxg00000gn/T/ipykernel_48150/1392323713.py:6: FutureWarning: 'M' is deprecated and will be removed in a future version, please use 'ME' instead.\n",
      "  agg = (df_ship.groupby([pd.Grouper(key='REF_DATE', freq='M'), 'destination', 'mode'])['VALUE']\n"
     ]
    },
    {
     "data": {
      "text/html": [
       "<div>\n",
       "<style scoped>\n",
       "    .dataframe tbody tr th:only-of-type {\n",
       "        vertical-align: middle;\n",
       "    }\n",
       "\n",
       "    .dataframe tbody tr th {\n",
       "        vertical-align: top;\n",
       "    }\n",
       "\n",
       "    .dataframe thead th {\n",
       "        text-align: right;\n",
       "    }\n",
       "</style>\n",
       "<table border=\"1\" class=\"dataframe\">\n",
       "  <thead>\n",
       "    <tr style=\"text-align: right;\">\n",
       "      <th></th>\n",
       "      <th>REF_DATE</th>\n",
       "      <th>destination</th>\n",
       "      <th>mode</th>\n",
       "      <th>VALUE</th>\n",
       "    </tr>\n",
       "  </thead>\n",
       "  <tbody>\n",
       "    <tr>\n",
       "      <th>0</th>\n",
       "      <td>2017-01-31</td>\n",
       "      <td>From Rest Of World</td>\n",
       "      <td>Marine</td>\n",
       "      <td>7761.0</td>\n",
       "    </tr>\n",
       "    <tr>\n",
       "      <th>1</th>\n",
       "      <td>2017-01-31</td>\n",
       "      <td>From United States</td>\n",
       "      <td>Marine</td>\n",
       "      <td>535.0</td>\n",
       "    </tr>\n",
       "    <tr>\n",
       "      <th>2</th>\n",
       "      <td>2017-01-31</td>\n",
       "      <td>International freight, total twenty-foot equiv...</td>\n",
       "      <td>TEU</td>\n",
       "      <td>451.2</td>\n",
       "    </tr>\n",
       "    <tr>\n",
       "      <th>3</th>\n",
       "      <td>2017-01-31</td>\n",
       "      <td>To Rest Of World</td>\n",
       "      <td>Marine</td>\n",
       "      <td>6737.0</td>\n",
       "    </tr>\n",
       "    <tr>\n",
       "      <th>4</th>\n",
       "      <td>2017-01-31</td>\n",
       "      <td>To United States</td>\n",
       "      <td>Marine</td>\n",
       "      <td>1842.0</td>\n",
       "    </tr>\n",
       "  </tbody>\n",
       "</table>\n",
       "</div>"
      ],
      "text/plain": [
       "    REF_DATE                                        destination    mode  \\\n",
       "0 2017-01-31                                 From Rest Of World  Marine   \n",
       "1 2017-01-31                                 From United States  Marine   \n",
       "2 2017-01-31  International freight, total twenty-foot equiv...     TEU   \n",
       "3 2017-01-31                                   To Rest Of World  Marine   \n",
       "4 2017-01-31                                   To United States  Marine   \n",
       "\n",
       "    VALUE  \n",
       "0  7761.0  \n",
       "1   535.0  \n",
       "2   451.2  \n",
       "3  6737.0  \n",
       "4  1842.0  "
      ]
     },
     "execution_count": 4,
     "metadata": {},
     "output_type": "execute_result"
    }
   ],
   "source": [
    "# Focus dataset: keep shipping-related rows (Marine and TEU) — this is our 'shipping focus'\n",
    "df_ship = df[df['mode'].isin(['Marine', 'TEU'])].copy()\n",
    "print('Shipping-focused rows:', len(df_ship))\n",
    "# Aggregate monthly sums by mode and destination\n",
    "df_ship = df_ship.dropna(subset=['REF_DATE'])\n",
    "agg = (df_ship.groupby([pd.Grouper(key='REF_DATE', freq='M'), 'destination', 'mode'])['VALUE']\n",
    "       .sum(min_count=1)\n",
    "       .reset_index())\n",
    "agg = agg.sort_values(['REF_DATE','destination','mode']).reset_index(drop=True)\n",
    "agg.head()"
   ]
  },
  {
   "cell_type": "code",
   "execution_count": 5,
   "id": "f6b9fa77",
   "metadata": {},
   "outputs": [
    {
     "name": "stderr",
     "output_type": "stream",
     "text": [
      "/var/folders/xq/8str9gd95bqdc16dw13_pxg00000gn/T/ipykernel_48150/1837219125.py:7: FutureWarning: 'M' is deprecated and will be removed in a future version, please use 'ME' instead.\n",
      "  sub = plot_df[plot_df['destination']==dest].set_index('REF_DATE').resample('M')['VALUE'].sum()\n"
     ]
    },
    {
     "data": {
      "image/png": "[encoded data removed]",
      "text/plain": [
       "<Figure size 1200x600 with 1 Axes>"
      ]
     },
     "metadata": {},
     "output_type": "display_data"
    }
   ],
   "source": [
    "# Quick time-series plot: TEU & Marine by destination (top destinations)\n",
    "# Select top destinations by total VALUE\n",
    "top_dests = (agg.groupby('destination')['VALUE'].sum().nlargest(6).index.tolist())\n",
    "plot_df = agg[agg['destination'].isin(top_dests)].copy()\n",
    "plt.figure(figsize=(12,6))\n",
    "for dest in top_dests:\n",
    "    sub = plot_df[plot_df['destination']==dest].set_index('REF_DATE').resample('M')['VALUE'].sum()\n",
    "    plt.plot(sub.index, sub.values, marker='o', label=dest)\n",
    "plt.legend(title='Destination', bbox_to_anchor=(1.02,1), loc='upper left')\n",
    "plt.title('Shipping-focused series (Marine & TEU) — top destinations')\n",
    "plt.ylabel('Value (original units)')\n",
    "plt.xlabel('Month')\n",
    "plt.tight_layout()\n",
    "plt.show()"
   ]
  },
  {
   "cell_type": "code",
   "execution_count": 6,
   "id": "1dccf6b9",
   "metadata": {},
   "outputs": [
    {
     "name": "stdout",
     "output_type": "stream",
     "text": [
      "Saved interactive HTML to shipping_plotly_topdestinations.html\n"
     ]
    },
    {
     "data": {
      "application/vnd.plotly.v1+json": {
       "config": {
        "plotlyServerURL": "https://plot.ly"
       },
       "data": [
        {
         "hovertemplate": "destination=From Rest Of World<br>mode=Marine<br>REF_DATE=%{x}<br>VALUE=%{y}<extra></extra>",
         "legendgroup": "From Rest Of World, Marine",
         "line": {
          "color": "#636efa",
          "dash": "solid"
         },
         "marker": {
          "symbol": "circle"
         },
         "mode": "lines+markers",
         "name": "From Rest Of World, Marine",
         "orientation": "v",
         "showlegend": true,
         "type": "scatter",
         "x": [
          "2017-01-31T00:00:00.000000000",
          "2017-02-28T00:00:00.000000000",
          "2017-03-31T00:00:00.000000000",
          "2017-04-30T00:00:00.000000000",
          "2017-05-31T00:00:00.000000000",
          "2017-06-30T00:00:00.000000000",
          "2017-07-31T00:00:00.000000000",
          "2017-08-31T00:00:00.000000000",
          "2017-09-30T00:00:00.000000000",
          "2017-10-31T00:00:00.000000000",
          "2017-11-30T00:00:00.000000000",
          "2017-12-31T00:00:00.000000000",
          "2018-01-31T00:00:00.000000000",
          "2018-02-28T00:00:00.000000000",
          "2018-03-31T00:00:00.000000000",
          "2018-04-30T00:00:00.000000000",
          "2018-05-31T00:00:00.000000000",
          "2018-06-30T00:00:00.000000000",
          "2018-07-31T00:00:00.000000000",
          "2018-08-31T00:00:00.000000000",
          "2018-09-30T00:00:00.000000000",
          "2018-10-31T00:00:00.000000000",
          "2018-11-30T00:00:00.000000000",
          "2018-12-31T00:00:00.000000000",
          "2019-01-31T00:00:00.000000000",
          "2019-02-28T00:00:00.000000000",
          "2019-03-31T00:00:00.000000000",
          "2019-04-30T00:00:00.000000000",
          "2019-05-31T00:00:00.000000000",
          "2019-06-30T00:00:00.000000000",
          "2019-07-31T00:00:00.000000000",
          "2019-08-31T00:00:00.000000000",
          "2019-09-30T00:00:00.000000000",
          "2019-10-31T00:00:00.000000000",
          "2019-11-30T00:00:00.000000000",
          "2019-12-31T00:00:00.000000000",
          "2020-01-31T00:00:00.000000000",
          "2020-02-29T00:00:00.000000000",
          "2020-03-31T00:00:00.000000000",
          "2020-04-30T00:00:00.000000000",
          "2020-05-31T00:00:00.000000000",
          "2020-06-30T00:00:00.000000000",
          "2020-07-31T00:00:00.000000000",
          "2020-08-31T00:00:00.000000000",
          "2020-09-30T00:00:00.000000000",
          "2020-10-31T00:00:00.000000000",
          "2020-11-30T00:00:00.000000000",
          "2020-12-31T00:00:00.000000000",
          "2021-01-31T00:00:00.000000000",
          "2021-02-28T00:00:00.000000000",
          "2021-03-31T00:00:00.000000000",
          "2021-04-30T00:00:00.000000000",
          "2021-05-31T00:00:00.000000000",
          "2021-06-30T00:00:00.000000000",
          "2021-07-31T00:00:00.000000000",
          "2021-08-31T00:00:00.000000000",
          "2021-09-30T00:00:00.000000000",
          "2021-10-31T00:00:00.000000000",
          "2021-11-30T00:00:00.000000000",
          "2021-12-31T00:00:00.000000000",
          "2022-01-31T00:00:00.000000000",
          "2022-02-28T00:00:00.000000000",
          "2022-03-31T00:00:00.000000000",
          "2022-04-30T00:00:00.000000000",
          "2022-05-31T00:00:00.000000000",
          "2022-06-30T00:00:00.000000000",
          "2022-07-31T00:00:00.000000000",
          "2022-08-31T00:00:00.000000000",
          "2022-09-30T00:00:00.000000000",
          "2022-10-31T00:00:00.000000000",
          "2022-11-30T00:00:00.000000000",
          "2022-12-31T00:00:00.000000000",
          "2023-01-31T00:00:00.000000000",
          "2023-02-28T00:00:00.000000000",
          "2023-03-31T00:00:00.000000000",
          "2023-04-30T00:00:00.000000000",
          "2023-05-31T00:00:00.000000000",
          "2023-06-30T00:00:00.000000000",
          "2023-07-31T00:00:00.000000000",
          "2023-08-31T00:00:00.000000000",
          "2023-09-30T00:00:00.000000000",
          "2023-10-31T00:00:00.000000000",
          "2023-11-30T00:00:00.000000000",
          "2023-12-31T00:00:00.000000000",
          "2024-01-31T00:00:00.000000000",
          "2024-02-29T00:00:00.000000000",
          "2024-03-31T00:00:00.000000000",
          "2024-04-30T00:00:00.000000000",
          "2024-05-31T00:00:00.000000000",
          "2024-06-30T00:00:00.000000000",
          "2024-07-31T00:00:00.000000000",
          "2024-08-31T00:00:00.000000000",
          "2024-09-30T00:00:00.000000000"
         ],
         "xaxis": "x",
         "y": {
          "bdata": "AAAAAABRvkAAAAAAAPa/QAAAAAAAXsBAAAAAAAAHwUAAAAAAAJbCQAAAAACAbMJAAAAAAIDewUAAAAAAgNvCQAAAAAAAAsJAAAAAAADrwUAAAAAAgIvBQAAAAAAAQsBAAAAAAAB5wUAAAAAAAP2/QAAAAAAAs8JAAAAAAAA4xEAAAAAAAHnFQAAAAAAA58RAAAAAAABixkAAAAAAAJvGQAAAAACAZsNAAAAAAIBCw0AAAAAAAG3CQAAAAAAAK8JAAAAAAAA3xEAAAAAAAI3AQAAAAACAjMNAAAAAAABbxEAAAAAAALnEQAAAAAAAO8NAAAAAAABlxUAAAAAAgNHEQAAAAACAqMJAAAAAAABbw0AAAAAAAGfBQAAAAACApMFAAAAAAACqw0AAAAAAAK2/QAAAAAAAr8JAAAAAAAA5wkAAAAAAgDnAQAAAAACAnsNAAAAAAAAsxUAAAAAAAC/DQAAAAAAAVMVAAAAAAICNx0AAAAAAAJTFQAAAAAAAb8RAAAAAAAD2w0AAAAAAgFjCQAAAAACAW8dAAAAAAAB3xkAAAAAAALTIQAAAAAAAXshAAAAAAIB6x0AAAAAAAIfJQAAAAACAgclAAAAAAIBeyEAAAAAAAInHQAAAAAAA58dAAAAAAIBQxEAAAAAAANXEQAAAAACAu8tAAAAAAIBxzUAAAAAAgEbOQAAAAAAAo85AAAAAAIClzEAAAAAAgD/QQAAAAACAj81AAAAAAICJzkAAAAAAAJfLQAAAAACAu8hAAAAAAADMyUAAAAAAgMzGQAAAAAAA78lAAAAAAIANyUAAAAAAgI7NQAAAAACA7stAAAAAAACxx0AAAAAAgDPNQAAAAACAVMtAAAAAAADyykAAAAAAgPfJQAAAAAAAi8dAAAAAAADJxkAAAAAAAAbIQAAAAAAA0MhAAAAAAADpy0AAAAAAgNfMQAAAAACA1spAAAAAAIChzUAAAAAAAG3NQAAAAAAA7ctA",
          "dtype": "f8"
         },
         "yaxis": "y"
        },
        {
         "hovertemplate": "destination=From United States<br>mode=Marine<br>REF_DATE=%{x}<br>VALUE=%{y}<extra></extra>",
         "legendgroup": "From United States, Marine",
         "line": {
          "color": "#EF553B",
          "dash": "solid"
         },
         "marker": {
          "symbol": "circle"
         },
         "mode": "lines+markers",
         "name": "From United States, Marine",
         "orientation": "v",
         "showlegend": true,
         "type": "scatter",
         "x": [
          "2017-01-31T00:00:00.000000000",
          "2017-02-28T00:00:00.000000000",
          "2017-03-31T00:00:00.000000000",
          "2017-04-30T00:00:00.000000000",
          "2017-05-31T00:00:00.000000000",
          "2017-06-30T00:00:00.000000000",
          "2017-07-31T00:00:00.000000000",
          "2017-08-31T00:00:00.000000000",
          "2017-09-30T00:00:00.000000000",
          "2017-10-31T00:00:00.000000000",
          "2017-11-30T00:00:00.000000000",
          "2017-12-31T00:00:00.000000000",
          "2018-01-31T00:00:00.000000000",
          "2018-02-28T00:00:00.000000000",
          "2018-03-31T00:00:00.000000000",
          "2018-04-30T00:00:00.000000000",
          "2018-05-31T00:00:00.000000000",
          "2018-06-30T00:00:00.000000000",
          "2018-07-31T00:00:00.000000000",
          "2018-08-31T00:00:00.000000000",
          "2018-09-30T00:00:00.000000000",
          "2018-10-31T00:00:00.000000000",
          "2018-11-30T00:00:00.000000000",
          "2018-12-31T00:00:00.000000000",
          "2019-01-31T00:00:00.000000000",
          "2019-02-28T00:00:00.000000000",
          "2019-03-31T00:00:00.000000000",
          "2019-04-30T00:00:00.000000000",
          "2019-05-31T00:00:00.000000000",
          "2019-06-30T00:00:00.000000000",
          "2019-07-31T00:00:00.000000000",
          "2019-08-31T00:00:00.000000000",
          "2019-09-30T00:00:00.000000000",
          "2019-10-31T00:00:00.000000000",
          "2019-11-30T00:00:00.000000000",
          "2019-12-31T00:00:00.000000000",
          "2020-01-31T00:00:00.000000000",
          "2020-02-29T00:00:00.000000000",
          "2020-03-31T00:00:00.000000000",
          "2020-04-30T00:00:00.000000000",
          "2020-05-31T00:00:00.000000000",
          "2020-06-30T00:00:00.000000000",
          "2020-07-31T00:00:00.000000000",
          "2020-08-31T00:00:00.000000000",
          "2020-09-30T00:00:00.000000000",
          "2020-10-31T00:00:00.000000000",
          "2020-11-30T00:00:00.000000000",
          "2020-12-31T00:00:00.000000000",
          "2021-01-31T00:00:00.000000000",
          "2021-02-28T00:00:00.000000000",
          "2021-03-31T00:00:00.000000000",
          "2021-04-30T00:00:00.000000000",
          "2021-05-31T00:00:00.000000000",
          "2021-06-30T00:00:00.000000000",
          "2021-07-31T00:00:00.000000000",
          "2021-08-31T00:00:00.000000000",
          "2021-09-30T00:00:00.000000000",
          "2021-10-31T00:00:00.000000000",
          "2021-11-30T00:00:00.000000000",
          "2021-12-31T00:00:00.000000000",
          "2022-01-31T00:00:00.000000000",
          "2022-02-28T00:00:00.000000000",
          "2022-03-31T00:00:00.000000000",
          "2022-04-30T00:00:00.000000000",
          "2022-05-31T00:00:00.000000000",
          "2022-06-30T00:00:00.000000000",
          "2022-07-31T00:00:00.000000000",
          "2022-08-31T00:00:00.000000000",
          "2022-09-30T00:00:00.000000000",
          "2022-10-31T00:00:00.000000000",
          "2022-11-30T00:00:00.000000000",
          "2022-12-31T00:00:00.000000000",
          "2023-01-31T00:00:00.000000000",
          "2023-02-28T00:00:00.000000000",
          "2023-03-31T00:00:00.000000000",
          "2023-04-30T00:00:00.000000000",
          "2023-05-31T00:00:00.000000000",
          "2023-06-30T00:00:00.000000000",
          "2023-07-31T00:00:00.000000000",
          "2023-08-31T00:00:00.000000000",
          "2023-09-30T00:00:00.000000000",
          "2023-10-31T00:00:00.000000000",
          "2023-11-30T00:00:00.000000000",
          "2023-12-31T00:00:00.000000000",
          "2024-01-31T00:00:00.000000000",
          "2024-02-29T00:00:00.000000000",
          "2024-03-31T00:00:00.000000000",
          "2024-04-30T00:00:00.000000000",
          "2024-05-31T00:00:00.000000000",
          "2024-06-30T00:00:00.000000000",
          "2024-07-31T00:00:00.000000000",
          "2024-08-31T00:00:00.000000000",
          "2024-09-30T00:00:00.000000000"
         ],
         "xaxis": "x",
         "y": {
          "bdata": "AAAAAAC4gEAAAAAAAGB1QAAAAAAA0H9AAAAAAABIhEAAAAAAAPCMQAAAAAAAeIVAAAAAAADQjUAAAAAAALiIQAAAAAAABJBAAAAAAABIikAAAAAAAEiYQAAAAAAAmJRAAAAAAACokkAAAAAAACCTQAAAAAAAAI9AAAAAAAA4mEAAAAAAAByaQAAAAAAAQJVAAAAAAAAkmUAAAAAAAFyXQAAAAAAAaJpAAAAAAAAUn0AAAAAAALiXQAAAAAAAuJhAAAAAAABIkkAAAAAAAIyUQAAAAAAAvJFAAAAAAAAcnkAAAAAAAKydQAAAAAAADJVAAAAAAABElkAAAAAAALCaQAAAAAAAVJlAAAAAAACcnUAAAAAAAKCaQAAAAAAAaJlAAAAAAABEnEAAAAAAABSSQAAAAAAA/JBAAAAAAAAwhUAAAAAAABB/QAAAAAAAmIZAAAAAAADYjkAAAAAAAPCJQAAAAAAANJRAAAAAAAAIjEAAAAAAAIiLQAAAAAAAqI5AAAAAAAAIjEAAAAAAAJCCQAAAAAAAsItAAAAAAAAIk0AAAAAAABCNQAAAAAAAUI9AAAAAAACgkEAAAAAAADyZQAAAAAAAjJNAAAAAAADkmkAAAAAAAPybQAAAAAAAKJhAAAAAAAAMlEAAAAAAAPCTQAAAAAAAQJhAAAAAAABEnkAAAAAAAKScQAAAAAAArKNAAAAAAABWpEAAAAAAAOijQAAAAAAAHqBAAAAAAADOoEAAAAAAAAigQAAAAAAACJ1AAAAAAADQl0AAAAAAALyXQAAAAAAAJJlAAAAAAACUl0AAAAAAAIyZQAAAAAAAHJxAAAAAAABonUAAAAAAAEyjQAAAAAAAdJhAAAAAAABgm0AAAAAAAISfQAAAAAAAUJtAAAAAAADkm0AAAAAAALiXQAAAAAAAeJtAAAAAAADInUAAAAAAADSXQAAAAAAARJ5AAAAAAABYnUAAAAAAABSdQAAAAAAAiJhA",
          "dtype": "f8"
         },
         "yaxis": "y"
        },
        {
         "hovertemplate": "destination=International freight, total twenty-foot equivalent units (TEUs) handled at four major container ports<br>mode=TEU<br>REF_DATE=%{x}<br>VALUE=%{y}<extra></extra>",
         "legendgroup": "International freight, total twenty-foot equivalent units (TEUs) handled at four major container ports, TEU",
         "line": {
          "color": "#00cc96",
          "dash": "dot"
         },
         "marker": {
          "symbol": "circle"
         },
         "mode": "lines+markers",
         "name": "International freight, total twenty-foot equivalent units (TEUs) handled at four major container ports, TEU",
         "orientation": "v",
         "showlegend": true,
         "type": "scatter",
         "x": [
          "2017-01-31T00:00:00.000000000",
          "2017-02-28T00:00:00.000000000",
          "2017-03-31T00:00:00.000000000",
          "2017-04-30T00:00:00.000000000",
          "2017-05-31T00:00:00.000000000",
          "2017-06-30T00:00:00.000000000",
          "2017-07-31T00:00:00.000000000",
          "2017-08-31T00:00:00.000000000",
          "2017-09-30T00:00:00.000000000",
          "2017-10-31T00:00:00.000000000",
          "2017-11-30T00:00:00.000000000",
          "2017-12-31T00:00:00.000000000",
          "2018-01-31T00:00:00.000000000",
          "2018-02-28T00:00:00.000000000",
          "2018-03-31T00:00:00.000000000",
          "2018-04-30T00:00:00.000000000",
          "2018-05-31T00:00:00.000000000",
          "2018-06-30T00:00:00.000000000",
          "2018-07-31T00:00:00.000000000",
          "2018-08-31T00:00:00.000000000",
          "2018-09-30T00:00:00.000000000",
          "2018-10-31T00:00:00.000000000",
          "2018-11-30T00:00:00.000000000",
          "2018-12-31T00:00:00.000000000",
          "2019-01-31T00:00:00.000000000",
          "2019-02-28T00:00:00.000000000",
          "2019-03-31T00:00:00.000000000",
          "2019-04-30T00:00:00.000000000",
          "2019-05-31T00:00:00.000000000",
          "2019-06-30T00:00:00.000000000",
          "2019-07-31T00:00:00.000000000",
          "2019-08-31T00:00:00.000000000",
          "2019-09-30T00:00:00.000000000",
          "2019-10-31T00:00:00.000000000",
          "2019-11-30T00:00:00.000000000",
          "2019-12-31T00:00:00.000000000",
          "2020-01-31T00:00:00.000000000",
          "2020-02-29T00:00:00.000000000",
          "2020-03-31T00:00:00.000000000",
          "2020-04-30T00:00:00.000000000",
          "2020-05-31T00:00:00.000000000",
          "2020-06-30T00:00:00.000000000",
          "2020-07-31T00:00:00.000000000",
          "2020-08-31T00:00:00.000000000",
          "2020-09-30T00:00:00.000000000",
          "2020-10-31T00:00:00.000000000",
          "2020-11-30T00:00:00.000000000",
          "2020-12-31T00:00:00.000000000",
          "2021-01-31T00:00:00.000000000",
          "2021-02-28T00:00:00.000000000",
          "2021-03-31T00:00:00.000000000",
          "2021-04-30T00:00:00.000000000",
          "2021-05-31T00:00:00.000000000",
          "2021-06-30T00:00:00.000000000",
          "2021-07-31T00:00:00.000000000",
          "2021-08-31T00:00:00.000000000",
          "2021-09-30T00:00:00.000000000",
          "2021-10-31T00:00:00.000000000",
          "2021-11-30T00:00:00.000000000",
          "2021-12-31T00:00:00.000000000",
          "2022-01-31T00:00:00.000000000",
          "2022-02-28T00:00:00.000000000",
          "2022-03-31T00:00:00.000000000",
          "2022-04-30T00:00:00.000000000",
          "2022-05-31T00:00:00.000000000",
          "2022-06-30T00:00:00.000000000",
          "2022-07-31T00:00:00.000000000",
          "2022-08-31T00:00:00.000000000",
          "2022-09-30T00:00:00.000000000",
          "2022-10-31T00:00:00.000000000",
          "2022-11-30T00:00:00.000000000",
          "2022-12-31T00:00:00.000000000",
          "2023-01-31T00:00:00.000000000",
          "2023-02-28T00:00:00.000000000",
          "2023-03-31T00:00:00.000000000",
          "2023-04-30T00:00:00.000000000",
          "2023-05-31T00:00:00.000000000",
          "2023-06-30T00:00:00.000000000",
          "2023-07-31T00:00:00.000000000",
          "2023-08-31T00:00:00.000000000",
          "2023-09-30T00:00:00.000000000",
          "2023-10-31T00:00:00.000000000",
          "2023-11-30T00:00:00.000000000",
          "2023-12-31T00:00:00.000000000",
          "2024-01-31T00:00:00.000000000",
          "2024-02-29T00:00:00.000000000",
          "2024-03-31T00:00:00.000000000",
          "2024-04-30T00:00:00.000000000",
          "2024-05-31T00:00:00.000000000",
          "2024-06-30T00:00:00.000000000",
          "2024-07-31T00:00:00.000000000",
          "2024-08-31T00:00:00.000000000",
          "2024-09-30T00:00:00.000000000"
         ],
         "xaxis": "x",
         "y": {
          "bdata": "MzMzMzMzfEAzMzMzMyN9QJqZmZmZSX9AAAAAAAA4f0CamZmZmTmBQJqZmZmZ3YBAmpmZmZkpgUAzMzMzM+OAQAAAAAAAnIFAZmZmZmbugEBmZmZmZp6BQM3MzMzMIIBAMzMzMzPrf0AzMzMzM6t+QAAAAAAAcIFAZmZmZmZegEDNzMzMzDyCQAAAAAAAmIFAMzMzMzM3gkBmZmZmZhKBQM3MzMzMrIJAZmZmZmY2gkCamZmZmc2BQAAAAAAAMIFAMzMzMzNXgkBmZmZmZl5+QDMzMzMzc4FAAAAAAABEgkCamZmZmZWCQAAAAAAADIJAMzMzMzPfgkDNzMzMzMiDQGZmZmZmboJAZmZmZmb6gUAAAAAAAGSBQM3MzMzMQIFAzczMzMxMgEBmZmZmZr5+QGZmZmZmbn5AMzMzMzNrgUAzMzMzMweAQM3MzMzMPIBAZmZmZmbagUDNzMzMzMCBQDMzMzMzS4JAZmZmZmZOhUCamZmZmQGDQJqZmZmZNYNAMzMzMzPzgkAzMzMzMyuAQAAAAAAA3INAMzMzMzMzgkBmZmZmZkqFQAAAAAAA0IFAzczMzMxEgkDNzMzMzGyDQAAAAAAABIJAAAAAAAAIhEAAAAAAAESAQM3MzMzMXIFAZmZmZmYigEAAAAAAAIB+QGZmZmZmXoNAZmZmZmZWg0DNzMzMzISDQGZmZmZmAoNAMzMzMzPfgUBmZmZmZrKEQAAAAAAA7IJAAAAAAADAgkCamZmZmZmAQDMzMzMzE31AAAAAAACAfkCamZmZmXF7QGZmZmZmjnxAzczMzMzsf0CamZmZmfGAQAAAAAAAaIBAZmZmZmY2ekCamZmZmdl9QJqZmZmZdYBAzczMzMzMf0AzMzMzM8t/QAAAAAAAAIBAAAAAAAAIfkAzMzMzMxt/QGZmZmZmCoFAMzMzMzNjgEAzMzMzMweCQAAAAAAAiIBAMzMzMzP3gEAzMzMzM5uAQJqZmZmZiYBA",
          "dtype": "f8"
         },
         "yaxis": "y"
        },
        {
         "hovertemplate": "destination=To Rest Of World<br>mode=Marine<br>REF_DATE=%{x}<br>VALUE=%{y}<extra></extra>",
         "legendgroup": "To Rest Of World, Marine",
         "line": {
          "color": "#ab63fa",
          "dash": "solid"
         },
         "marker": {
          "symbol": "circle"
         },
         "mode": "lines+markers",
         "name": "To Rest Of World, Marine",
         "orientation": "v",
         "showlegend": true,
         "type": "scatter",
         "x": [
          "2017-01-31T00:00:00.000000000",
          "2017-02-28T00:00:00.000000000",
          "2017-03-31T00:00:00.000000000",
          "2017-04-30T00:00:00.000000000",
          "2017-05-31T00:00:00.000000000",
          "2017-06-30T00:00:00.000000000",
          "2017-07-31T00:00:00.000000000",
          "2017-08-31T00:00:00.000000000",
          "2017-09-30T00:00:00.000000000",
          "2017-10-31T00:00:00.000000000",
          "2017-11-30T00:00:00.000000000",
          "2017-12-31T00:00:00.000000000",
          "2018-01-31T00:00:00.000000000",
          "2018-02-28T00:00:00.000000000",
          "2018-03-31T00:00:00.000000000",
          "2018-04-30T00:00:00.000000000",
          "2018-05-31T00:00:00.000000000",
          "2018-06-30T00:00:00.000000000",
          "2018-07-31T00:00:00.000000000",
          "2018-08-31T00:00:00.000000000",
          "2018-09-30T00:00:00.000000000",
          "2018-10-31T00:00:00.000000000",
          "2018-11-30T00:00:00.000000000",
          "2018-12-31T00:00:00.000000000",
          "2019-01-31T00:00:00.000000000",
          "2019-02-28T00:00:00.000000000",
          "2019-03-31T00:00:00.000000000",
          "2019-04-30T00:00:00.000000000",
          "2019-05-31T00:00:00.000000000",
          "2019-06-30T00:00:00.000000000",
          "2019-07-31T00:00:00.000000000",
          "2019-08-31T00:00:00.000000000",
          "2019-09-30T00:00:00.000000000",
          "2019-10-31T00:00:00.000000000",
          "2019-11-30T00:00:00.000000000",
          "2019-12-31T00:00:00.000000000",
          "2020-01-31T00:00:00.000000000",
          "2020-02-29T00:00:00.000000000",
          "2020-03-31T00:00:00.000000000",
          "2020-04-30T00:00:00.000000000",
          "2020-05-31T00:00:00.000000000",
          "2020-06-30T00:00:00.000000000",
          "2020-07-31T00:00:00.000000000",
          "2020-08-31T00:00:00.000000000",
          "2020-09-30T00:00:00.000000000",
          "2020-10-31T00:00:00.000000000",
          "2020-11-30T00:00:00.000000000",
          "2020-12-31T00:00:00.000000000",
          "2021-01-31T00:00:00.000000000",
          "2021-02-28T00:00:00.000000000",
          "2021-03-31T00:00:00.000000000",
          "2021-04-30T00:00:00.000000000",
          "2021-05-31T00:00:00.000000000",
          "2021-06-30T00:00:00.000000000",
          "2021-07-31T00:00:00.000000000",
          "2021-08-31T00:00:00.000000000",
          "2021-09-30T00:00:00.000000000",
          "2021-10-31T00:00:00.000000000",
          "2021-11-30T00:00:00.000000000",
          "2021-12-31T00:00:00.000000000",
          "2022-01-31T00:00:00.000000000",
          "2022-02-28T00:00:00.000000000",
          "2022-03-31T00:00:00.000000000",
          "2022-04-30T00:00:00.000000000",
          "2022-05-31T00:00:00.000000000",
          "2022-06-30T00:00:00.000000000",
          "2022-07-31T00:00:00.000000000",
          "2022-08-31T00:00:00.000000000",
          "2022-09-30T00:00:00.000000000",
          "2022-10-31T00:00:00.000000000",
          "2022-11-30T00:00:00.000000000",
          "2022-12-31T00:00:00.000000000",
          "2023-01-31T00:00:00.000000000",
          "2023-02-28T00:00:00.000000000",
          "2023-03-31T00:00:00.000000000",
          "2023-04-30T00:00:00.000000000",
          "2023-05-31T00:00:00.000000000",
          "2023-06-30T00:00:00.000000000",
          "2023-07-31T00:00:00.000000000",
          "2023-08-31T00:00:00.000000000",
          "2023-09-30T00:00:00.000000000",
          "2023-10-31T00:00:00.000000000",
          "2023-11-30T00:00:00.000000000",
          "2023-12-31T00:00:00.000000000",
          "2024-01-31T00:00:00.000000000",
          "2024-02-29T00:00:00.000000000",
          "2024-03-31T00:00:00.000000000",
          "2024-04-30T00:00:00.000000000",
          "2024-05-31T00:00:00.000000000",
          "2024-06-30T00:00:00.000000000",
          "2024-07-31T00:00:00.000000000",
          "2024-08-31T00:00:00.000000000",
          "2024-09-30T00:00:00.000000000"
         ],
         "xaxis": "x",
         "y": {
          "bdata": "AAAAAABRukAAAAAAAMO3QAAAAAAAmL1AAAAAAAAsu0AAAAAAAKG8QAAAAAAAurtAAAAAAAASuEAAAAAAAMu3QAAAAAAA1LlAAAAAAAA5u0AAAAAAAJq7QAAAAAAAOL1AAAAAAAAouUAAAAAAACm6QAAAAAAAZL5AAAAAAAAGvUAAAAAAAG6/QAAAAAAAMsBAAAAAAABsvUAAAAAAANa9QAAAAAAAeb5AAAAAAIChwEAAAAAAgBTAQAAAAACAAcFAAAAAAAB3ukAAAAAAABa5QAAAAAAALL5AAAAAAADvu0AAAAAAAEzBQAAAAAAAzb9AAAAAAAD3vEAAAAAAAKy8QAAAAAAAOblAAAAAAAAXukAAAAAAADe7QAAAAAAAUr5AAAAAAAAuuEAAAAAAAH63QAAAAAAABrxAAAAAAADyukAAAAAAAIq+QAAAAAAAfLxAAAAAAACCvEAAAAAAAJ+6QAAAAAAA6L1AAAAAAIAZwEAAAAAAAFXAQAAAAACAD8FAAAAAAADovUAAAAAAAOS6QAAAAACAlcFAAAAAAAClv0AAAAAAAHvAQAAAAAAAuMFAAAAAAABEvkAAAAAAgKXAQAAAAACAfMBAAAAAAAAmwkAAAAAAAOjAQAAAAACAt8BAAAAAAAC2vEAAAAAAAKe+QAAAAAAAQMNAAAAAAICbwkAAAAAAAA7GQAAAAACArcRAAAAAAIDywkAAAAAAgPPBQAAAAAAA98NAAAAAAAAdx0AAAAAAAFfGQAAAAACAD8VAAAAAAIBNw0AAAAAAgKnBQAAAAAAAgcVAAAAAAID9wkAAAAAAgAfDQAAAAAAAEsFAAAAAAAAzvUAAAAAAgErAQAAAAAAAwcFAAAAAAACsw0AAAAAAAN/DQAAAAACA8cNAAAAAAAC4vkAAAAAAAKrAQAAAAAAAp8JAAAAAAADRwEAAAAAAABDBQAAAAACASsJAAAAAAICKwEAAAAAAgLrAQAAAAACADsNA",
          "dtype": "f8"
         },
         "yaxis": "y"
        },
        {
         "hovertemplate": "destination=To United States<br>mode=Marine<br>REF_DATE=%{x}<br>VALUE=%{y}<extra></extra>",
         "legendgroup": "To United States, Marine",
         "line": {
          "color": "#FFA15A",
          "dash": "solid"
         },
         "marker": {
          "symbol": "circle"
         },
         "mode": "lines+markers",
         "name": "To United States, Marine",
         "orientation": "v",
         "showlegend": true,
         "type": "scatter",
         "x": [
          "2017-01-31T00:00:00.000000000",
          "2017-02-28T00:00:00.000000000",
          "2017-03-31T00:00:00.000000000",
          "2017-04-30T00:00:00.000000000",
          "2017-05-31T00:00:00.000000000",
          "2017-06-30T00:00:00.000000000",
          "2017-07-31T00:00:00.000000000",
          "2017-08-31T00:00:00.000000000",
          "2017-09-30T00:00:00.000000000",
          "2017-10-31T00:00:00.000000000",
          "2017-11-30T00:00:00.000000000",
          "2017-12-31T00:00:00.000000000",
          "2018-01-31T00:00:00.000000000",
          "2018-02-28T00:00:00.000000000",
          "2018-03-31T00:00:00.000000000",
          "2018-04-30T00:00:00.000000000",
          "2018-05-31T00:00:00.000000000",
          "2018-06-30T00:00:00.000000000",
          "2018-07-31T00:00:00.000000000",
          "2018-08-31T00:00:00.000000000",
          "2018-09-30T00:00:00.000000000",
          "2018-10-31T00:00:00.000000000",
          "2018-11-30T00:00:00.000000000",
          "2018-12-31T00:00:00.000000000",
          "2019-01-31T00:00:00.000000000",
          "2019-02-28T00:00:00.000000000",
          "2019-03-31T00:00:00.000000000",
          "2019-04-30T00:00:00.000000000",
          "2019-05-31T00:00:00.000000000",
          "2019-06-30T00:00:00.000000000",
          "2019-07-31T00:00:00.000000000",
          "2019-08-31T00:00:00.000000000",
          "2019-09-30T00:00:00.000000000",
          "2019-10-31T00:00:00.000000000",
          "2019-11-30T00:00:00.000000000",
          "2019-12-31T00:00:00.000000000",
          "2020-01-31T00:00:00.000000000",
          "2020-02-29T00:00:00.000000000",
          "2020-03-31T00:00:00.000000000",
          "2020-04-30T00:00:00.000000000",
          "2020-05-31T00:00:00.000000000",
          "2020-06-30T00:00:00.000000000",
          "2020-07-31T00:00:00.000000000",
          "2020-08-31T00:00:00.000000000",
          "2020-09-30T00:00:00.000000000",
          "2020-10-31T00:00:00.000000000",
          "2020-11-30T00:00:00.000000000",
          "2020-12-31T00:00:00.000000000",
          "2021-01-31T00:00:00.000000000",
          "2021-02-28T00:00:00.000000000",
          "2021-03-31T00:00:00.000000000",
          "2021-04-30T00:00:00.000000000",
          "2021-05-31T00:00:00.000000000",
          "2021-06-30T00:00:00.000000000",
          "2021-07-31T00:00:00.000000000",
          "2021-08-31T00:00:00.000000000",
          "2021-09-30T00:00:00.000000000",
          "2021-10-31T00:00:00.000000000",
          "2021-11-30T00:00:00.000000000",
          "2021-12-31T00:00:00.000000000",
          "2022-01-31T00:00:00.000000000",
          "2022-02-28T00:00:00.000000000",
          "2022-03-31T00:00:00.000000000",
          "2022-04-30T00:00:00.000000000",
          "2022-05-31T00:00:00.000000000",
          "2022-06-30T00:00:00.000000000",
          "2022-07-31T00:00:00.000000000",
          "2022-08-31T00:00:00.000000000",
          "2022-09-30T00:00:00.000000000",
          "2022-10-31T00:00:00.000000000",
          "2022-11-30T00:00:00.000000000",
          "2022-12-31T00:00:00.000000000",
          "2023-01-31T00:00:00.000000000",
          "2023-02-28T00:00:00.000000000",
          "2023-03-31T00:00:00.000000000",
          "2023-04-30T00:00:00.000000000",
          "2023-05-31T00:00:00.000000000",
          "2023-06-30T00:00:00.000000000",
          "2023-07-31T00:00:00.000000000",
          "2023-08-31T00:00:00.000000000",
          "2023-09-30T00:00:00.000000000",
          "2023-10-31T00:00:00.000000000",
          "2023-11-30T00:00:00.000000000",
          "2023-12-31T00:00:00.000000000",
          "2024-01-31T00:00:00.000000000",
          "2024-02-29T00:00:00.000000000",
          "2024-03-31T00:00:00.000000000",
          "2024-04-30T00:00:00.000000000",
          "2024-05-31T00:00:00.000000000",
          "2024-06-30T00:00:00.000000000",
          "2024-07-31T00:00:00.000000000",
          "2024-08-31T00:00:00.000000000",
          "2024-09-30T00:00:00.000000000"
         ],
         "xaxis": "x",
         "y": {
          "bdata": "AAAAAADInEAAAAAAAAyTQAAAAAAAFJdAAAAAAABcmUAAAAAAAIyZQAAAAAAAcJlAAAAAAACAmEAAAAAAAPSUQAAAAAAA7JdAAAAAAAAwnkAAAAAAAEiZQAAAAAAAHJ9AAAAAAAAMmUAAAAAAALyXQAAAAAAAQJhAAAAAAADwm0AAAAAAAGKhQAAAAAAAYKBAAAAAAAAqoUAAAAAAAEidQAAAAAAApJhAAAAAAABolkAAAAAAAIiRQAAAAAAAlJNAAAAAAAB8lkAAAAAAAPCYQAAAAAAAjJpAAAAAAABknkAAAAAAAMCgQAAAAAAAsJtAAAAAAAAYnUAAAAAAALCdQAAAAAAAsJlAAAAAAACKoUAAAAAAALicQAAAAAAA7J9AAAAAAACIn0AAAAAAAISYQAAAAAAAbJNAAAAAAADwjUAAAAAAAMyRQAAAAAAAcI9AAAAAAADwkkAAAAAAAFiRQAAAAAAATJJAAAAAAAAYkUAAAAAAAHSRQAAAAAAAIJRAAAAAAAB8lUAAAAAAAGCXQAAAAAAA9JhAAAAAAABEnEAAAAAAAMSbQAAAAAAA1J9AAAAAAADIn0AAAAAAAHigQAAAAAAALqBAAAAAAADonUAAAAAAAFSjQAAAAAAAfKFAAAAAAACWoEAAAAAAALihQAAAAAAATqZAAAAAAADSpUAAAAAAAO6qQAAAAAAAGKhAAAAAAAD2qkAAAAAAAPamQAAAAAAA5qBAAAAAAABQoUAAAAAAAKSdQAAAAAAAdqJAAAAAAABCo0AAAAAAAKycQAAAAAAAsqBAAAAAAAAQo0AAAAAAALqiQAAAAAAABqJAAAAAAACGoEAAAAAAAEKjQAAAAAAA7J1AAAAAAACEmkAAAAAAAOCbQAAAAAAAgqBAAAAAAAByokAAAAAAALCjQAAAAAAAOKFAAAAAAAB+oUAAAAAAAHCiQAAAAAAARqVAAAAAAADEqUAAAAAAAH6mQAAAAAAAqKRA",
          "dtype": "f8"
         },
         "yaxis": "y"
        }
       ],
       "layout": {
        "height": 600,
        "legend": {
         "orientation": "v",
         "title": {
          "text": "destination, mode"
         },
         "tracegroupgap": 0,
         "x": 1.02,
         "y": 1
        },
        "margin": {
         "r": 160
        },
        "template": {
         "data": {
          "bar": [
           {
            "error_x": {
             "color": "#2a3f5f"
            },
            "error_y": {
             "color": "#2a3f5f"
            },
            "marker": {
             "line": {
              "color": "white",
              "width": 0.5
             },
             "pattern": {
              "fillmode": "overlay",
              "size": 10,
              "solidity": 0.2
             }
            },
            "type": "bar"
           }
          ],
          "barpolar": [
           {
            "marker": {
             "line": {
              "color": "white",
              "width": 0.5
             },
             "pattern": {
              "fillmode": "overlay",
              "size": 10,
              "solidity": 0.2
             }
            },
            "type": "barpolar"
           }
          ],
          "carpet": [
           {
            "aaxis": {
             "endlinecolor": "#2a3f5f",
             "gridcolor": "#C8D4E3",
             "linecolor": "#C8D4E3",
             "minorgridcolor": "#C8D4E3",
             "startlinecolor": "#2a3f5f"
            },
            "baxis": {
             "endlinecolor": "#2a3f5f",
             "gridcolor": "#C8D4E3",
             "linecolor": "#C8D4E3",
             "minorgridcolor": "#C8D4E3",
             "startlinecolor": "#2a3f5f"
            },
            "type": "carpet"
           }
          ],
          "choropleth": [
           {
            "colorbar": {
             "outlinewidth": 0,
             "ticks": ""
            },
            "type": "choropleth"
           }
          ],
          "contour": [
           {
            "colorbar": {
             "outlinewidth": 0,
             "ticks": ""
            },
            "colorscale": [
             [
              0,
              "#0d0887"
             ],
             [
              0.1111111111111111,
              "#46039f"
             ],
             [
              0.2222222222222222,
              "#7201a8"
             ],
             [
              0.3333333333333333,
              "#9c179e"
             ],
             [
              0.4444444444444444,
              "#bd3786"
             ],
             [
              0.5555555555555556,
              "#d8576b"
             ],
             [
              0.6666666666666666,
              "#ed7953"
             ],
             [
              0.7777777777777778,
              "#fb9f3a"
             ],
             [
              0.8888888888888888,
              "#fdca26"
             ],
             [
              1,
              "#f0f921"
             ]
            ],
            "type": "contour"
           }
          ],
          "contourcarpet": [
           {
            "colorbar": {
             "outlinewidth": 0,
             "ticks": ""
            },
            "type": "contourcarpet"
           }
          ],
          "heatmap": [
           {
            "colorbar": {
             "outlinewidth": 0,
             "ticks": ""
            },
            "colorscale": [
             [
              0,
              "#0d0887"
             ],
             [
              0.1111111111111111,
              "#46039f"
             ],
             [
              0.2222222222222222,
              "#7201a8"
             ],
             [
              0.3333333333333333,
              "#9c179e"
             ],
             [
              0.4444444444444444,
              "#bd3786"
             ],
             [
              0.5555555555555556,
              "#d8576b"
             ],
             [
              0.6666666666666666,
              "#ed7953"
             ],
             [
              0.7777777777777778,
              "#fb9f3a"
             ],
             [
              0.8888888888888888,
              "#fdca26"
             ],
             [
              1,
              "#f0f921"
             ]
            ],
            "type": "heatmap"
           }
          ],
          "histogram": [
           {
            "marker": {
             "pattern": {
              "fillmode": "overlay",
              "size": 10,
              "solidity": 0.2
             }
            },
            "type": "histogram"
           }
          ],
          "histogram2d": [
           {
            "colorbar": {
             "outlinewidth": 0,
             "ticks": ""
            },
            "colorscale": [
             [
              0,
              "#0d0887"
             ],
             [
              0.1111111111111111,
              "#46039f"
             ],
             [
              0.2222222222222222,
              "#7201a8"
             ],
             [
              0.3333333333333333,
              "#9c179e"
             ],
             [
              0.4444444444444444,
              "#bd3786"
             ],
             [
              0.5555555555555556,
              "#d8576b"
             ],
             [
              0.6666666666666666,
              "#ed7953"
             ],
             [
              0.7777777777777778,
              "#fb9f3a"
             ],
             [
              0.8888888888888888,
              "#fdca26"
             ],
             [
              1,
              "#f0f921"
             ]
            ],
            "type": "histogram2d"
           }
          ],
          "histogram2dcontour": [
           {
            "colorbar": {
             "outlinewidth": 0,
             "ticks": ""
            },
            "colorscale": [
             [
              0,
              "#0d0887"
             ],
             [
              0.1111111111111111,
              "#46039f"
             ],
             [
              0.2222222222222222,
              "#7201a8"
             ],
             [
              0.3333333333333333,
              "#9c179e"
             ],
             [
              0.4444444444444444,
              "#bd3786"
             ],
             [
              0.5555555555555556,
              "#d8576b"
             ],
             [
              0.6666666666666666,
              "#ed7953"
             ],
             [
              0.7777777777777778,
              "#fb9f3a"
             ],
             [
              0.8888888888888888,
              "#fdca26"
             ],
             [
              1,
              "#f0f921"
             ]
            ],
            "type": "histogram2dcontour"
           }
          ],
          "mesh3d": [
           {
            "colorbar": {
             "outlinewidth": 0,
             "ticks": ""
            },
            "type": "mesh3d"
           }
          ],
          "parcoords": [
           {
            "line": {
             "colorbar": {
              "outlinewidth": 0,
              "ticks": ""
             }
            },
            "type": "parcoords"
           }
          ],
          "pie": [
           {
            "automargin": true,
            "type": "pie"
           }
          ],
          "scatter": [
           {
            "fillpattern": {
             "fillmode": "overlay",
             "size": 10,
             "solidity": 0.2
            },
            "type": "scatter"
           }
          ],
          "scatter3d": [
           {
            "line": {
             "colorbar": {
              "outlinewidth": 0,
              "ticks": ""
             }
            },
            "marker": {
             "colorbar": {
              "outlinewidth": 0,
              "ticks": ""
             }
            },
            "type": "scatter3d"
           }
          ],
          "scattercarpet": [
           {
            "marker": {
             "colorbar": {
              "outlinewidth": 0,
              "ticks": ""
             }
            },
            "type": "scattercarpet"
           }
          ],
          "scattergeo": [
           {
            "marker": {
             "colorbar": {
              "outlinewidth": 0,
              "ticks": ""
             }
            },
            "type": "scattergeo"
           }
          ],
          "scattergl": [
           {
            "marker": {
             "colorbar": {
              "outlinewidth": 0,
              "ticks": ""
             }
            },
            "type": "scattergl"
           }
          ],
          "scattermap": [
           {
            "marker": {
             "colorbar": {
              "outlinewidth": 0,
              "ticks": ""
             }
            },
            "type": "scattermap"
           }
          ],
          "scattermapbox": [
           {
            "marker": {
             "colorbar": {
              "outlinewidth": 0,
              "ticks": ""
             }
            },
            "type": "scattermapbox"
           }
          ],
          "scatterpolar": [
           {
            "marker": {
             "colorbar": {
              "outlinewidth": 0,
              "ticks": ""
             }
            },
            "type": "scatterpolar"
           }
          ],
          "scatterpolargl": [
           {
            "marker": {
             "colorbar": {
              "outlinewidth": 0,
              "ticks": ""
             }
            },
            "type": "scatterpolargl"
           }
          ],
          "scatterternary": [
           {
            "marker": {
             "colorbar": {
              "outlinewidth": 0,
              "ticks": ""
             }
            },
            "type": "scatterternary"
           }
          ],
          "surface": [
           {
            "colorbar": {
             "outlinewidth": 0,
             "ticks": ""
            },
            "colorscale": [
             [
              0,
              "#0d0887"
             ],
             [
              0.1111111111111111,
              "#46039f"
             ],
             [
              0.2222222222222222,
              "#7201a8"
             ],
             [
              0.3333333333333333,
              "#9c179e"
             ],
             [
              0.4444444444444444,
              "#bd3786"
             ],
             [
              0.5555555555555556,
              "#d8576b"
             ],
             [
              0.6666666666666666,
              "#ed7953"
             ],
             [
              0.7777777777777778,
              "#fb9f3a"
             ],
             [
              0.8888888888888888,
              "#fdca26"
             ],
             [
              1,
              "#f0f921"
             ]
            ],
            "type": "surface"
           }
          ],
          "table": [
           {
            "cells": {
             "fill": {
              "color": "#EBF0F8"
             },
             "line": {
              "color": "white"
             }
            },
            "header": {
             "fill": {
              "color": "#C8D4E3"
             },
             "line": {
              "color": "white"
             }
            },
            "type": "table"
           }
          ]
         },
         "layout": {
          "annotationdefaults": {
           "arrowcolor": "#2a3f5f",
           "arrowhead": 0,
           "arrowwidth": 1
          },
          "autotypenumbers": "strict",
          "coloraxis": {
           "colorbar": {
            "outlinewidth": 0,
            "ticks": ""
           }
          },
          "colorscale": {
           "diverging": [
            [
             0,
             "#8e0152"
            ],
            [
             0.1,
             "#c51b7d"
            ],
            [
             0.2,
             "#de77ae"
            ],
            [
             0.3,
             "#f1b6da"
            ],
            [
             0.4,
             "#fde0ef"
            ],
            [
             0.5,
             "#f7f7f7"
            ],
            [
             0.6,
             "#e6f5d0"
            ],
            [
             0.7,
             "#b8e186"
            ],
            [
             0.8,
             "#7fbc41"
            ],
            [
             0.9,
             "#4d9221"
            ],
            [
             1,
             "#276419"
            ]
           ],
           "sequential": [
            [
             0,
             "#0d0887"
            ],
            [
             0.1111111111111111,
             "#46039f"
            ],
            [
             0.2222222222222222,
             "#7201a8"
            ],
            [
             0.3333333333333333,
             "#9c179e"
            ],
            [
             0.4444444444444444,
             "#bd3786"
            ],
            [
             0.5555555555555556,
             "#d8576b"
            ],
            [
             0.6666666666666666,
             "#ed7953"
            ],
            [
             0.7777777777777778,
             "#fb9f3a"
            ],
            [
             0.8888888888888888,
             "#fdca26"
            ],
            [
             1,
             "#f0f921"
            ]
           ],
           "sequentialminus": [
            [
             0,
             "#0d0887"
            ],
            [
             0.1111111111111111,
             "#46039f"
            ],
            [
             0.2222222222222222,
             "#7201a8"
            ],
            [
             0.3333333333333333,
             "#9c179e"
            ],
            [
             0.4444444444444444,
             "#bd3786"
            ],
            [
             0.5555555555555556,
             "#d8576b"
            ],
            [
             0.6666666666666666,
             "#ed7953"
            ],
            [
             0.7777777777777778,
             "#fb9f3a"
            ],
            [
             0.8888888888888888,
             "#fdca26"
            ],
            [
             1,
             "#f0f921"
            ]
           ]
          },
          "colorway": [
           "#636efa",
           "#EF553B",
           "#00cc96",
           "#ab63fa",
           "#FFA15A",
           "#19d3f3",
           "#FF6692",
           "#B6E880",
           "#FF97FF",
           "#FECB52"
          ],
          "font": {
           "color": "#2a3f5f"
          },
          "geo": {
           "bgcolor": "white",
           "lakecolor": "white",
           "landcolor": "white",
           "showlakes": true,
           "showland": true,
           "subunitcolor": "#C8D4E3"
          },
          "hoverlabel": {
           "align": "left"
          },
          "hovermode": "closest",
          "mapbox": {
           "style": "light"
          },
          "paper_bgcolor": "white",
          "plot_bgcolor": "white",
          "polar": {
           "angularaxis": {
            "gridcolor": "#EBF0F8",
            "linecolor": "#EBF0F8",
            "ticks": ""
           },
           "bgcolor": "white",
           "radialaxis": {
            "gridcolor": "#EBF0F8",
            "linecolor": "#EBF0F8",
            "ticks": ""
           }
          },
          "scene": {
           "xaxis": {
            "backgroundcolor": "white",
            "gridcolor": "#DFE8F3",
            "gridwidth": 2,
            "linecolor": "#EBF0F8",
            "showbackground": true,
            "ticks": "",
            "zerolinecolor": "#EBF0F8"
           },
           "yaxis": {
            "backgroundcolor": "white",
            "gridcolor": "#DFE8F3",
            "gridwidth": 2,
            "linecolor": "#EBF0F8",
            "showbackground": true,
            "ticks": "",
            "zerolinecolor": "#EBF0F8"
           },
           "zaxis": {
            "backgroundcolor": "white",
            "gridcolor": "#DFE8F3",
            "gridwidth": 2,
            "linecolor": "#EBF0F8",
            "showbackground": true,
            "ticks": "",
            "zerolinecolor": "#EBF0F8"
           }
          },
          "shapedefaults": {
           "line": {
            "color": "#2a3f5f"
           }
          },
          "ternary": {
           "aaxis": {
            "gridcolor": "#DFE8F3",
            "linecolor": "#A2B1C6",
            "ticks": ""
           },
           "baxis": {
            "gridcolor": "#DFE8F3",
            "linecolor": "#A2B1C6",
            "ticks": ""
           },
           "bgcolor": "white",
           "caxis": {
            "gridcolor": "#DFE8F3",
            "linecolor": "#A2B1C6",
            "ticks": ""
           }
          },
          "title": {
           "x": 0.05
          },
          "xaxis": {
           "automargin": true,
           "gridcolor": "#EBF0F8",
           "linecolor": "#EBF0F8",
           "ticks": "",
           "title": {
            "standoff": 15
           },
           "zerolinecolor": "#EBF0F8",
           "zerolinewidth": 2
          },
          "yaxis": {
           "automargin": true,
           "gridcolor": "#EBF0F8",
           "linecolor": "#EBF0F8",
           "ticks": "",
           "title": {
            "standoff": 15
           },
           "zerolinecolor": "#EBF0F8",
           "zerolinewidth": 2
          }
         }
        },
        "title": {
         "text": "Shipping (Marine & TEU) — top destinations"
        },
        "xaxis": {
         "anchor": "y",
         "domain": [
          0,
          1
         ],
         "title": {
          "text": "REF_DATE"
         }
        },
        "yaxis": {
         "anchor": "x",
         "domain": [
          0,
          1
         ],
         "title": {
          "text": "VALUE"
         }
        }
       }
      }
     },
     "metadata": {},
     "output_type": "display_data"
    },
    {
     "name": "stdout",
     "output_type": "stream",
     "text": [
      "\n",
      "Note: The saved HTML file can be opened in any web browser for interactive viewing.\n"
     ]
    }
   ],
   "source": [
    "# Interactive Plotly chart (with graceful fallback)\n",
    "import plotly.express as px\n",
    "import warnings\n",
    "from pathlib import Path\n",
    "\n",
    "try:\n",
    "    import nbformat\n",
    "    HAVE_NBFORMAT = True\n",
    "except ImportError:\n",
    "    HAVE_NBFORMAT = False\n",
    "    warnings.warn(\"nbformat not found - installing recommended: pip install nbformat>=4.2.0\")\n",
    "\n",
    "# Ensure aggregated dataframe `agg` exists and REF_DATE is datetime\n",
    "plotly_df = agg.copy()\n",
    "plotly_df['REF_DATE'] = pd.to_datetime(plotly_df['REF_DATE'])\n",
    "\n",
    "# Use top destinations by total VALUE to keep plot readable\n",
    "top_dests = plotly_df.groupby('destination')['VALUE'].sum().nlargest(6).index.tolist()\n",
    "plotly_df = plotly_df[plotly_df['destination'].isin(top_dests)].copy()\n",
    "\n",
    "# Create the figure\n",
    "fig = px.line(plotly_df, x='REF_DATE', y='VALUE', color='destination', line_dash='mode', markers=True,\n",
    "              title='Shipping (Marine & TEU) — top destinations')\n",
    "fig.update_layout(\n",
    "    legend=dict(orientation='v', x=1.02, y=1),\n",
    "    margin=dict(r=160),\n",
    "    height=600,  # Slightly taller for better readability\n",
    "    template='plotly_white'  # Clean template that works well for exports\n",
    ")\n",
    "\n",
    "# Always save the interactive HTML version (most compatible)\n",
    "out_html = Path('shipping_plotly_topdestinations.html')\n",
    "fig.write_html(str(out_html))\n",
    "print(f'Saved interactive HTML to {out_html}')\n",
    "\n",
    "# Only try to show if we have nbformat\n",
    "if HAVE_NBFORMAT:\n",
    "    try:\n",
    "        fig.show()\n",
    "    except Exception as e:\n",
    "        print(f\"Could not display interactive plot ({str(e)}), but HTML was saved successfully.\")\n",
    "else:\n",
    "    print(\"\\nTo see interactive plots in the notebook, install nbformat:\")\n",
    "    print(\"pip install nbformat>=4.2.0\")\n",
    "    \n",
    "print(\"\\nNote: The saved HTML file can be opened in any web browser for interactive viewing.\")"
   ]
  },
  {
   "cell_type": "code",
   "execution_count": 7,
   "id": "5ff1ced3",
   "metadata": {},
   "outputs": [
    {
     "name": "stdout",
     "output_type": "stream",
     "text": [
      "Saved shipping-focused CSV to shipping_focus_23100269.csv\n"
     ]
    }
   ],
   "source": [
    "# Save the shipping-focused cleaned dataset for downstream analysis\n",
    "out_path = Path('shipping_focus_23100269.csv')\n",
    "# Save descriptive columns only to keep the file small\n",
    "df_ship[['REF_DATE','Activity indicators','mode','destination','UOM','VALUE']].to_csv(out_path, index=False)\n",
    "print('Saved shipping-focused CSV to', out_path)"
   ]
  },
  {
   "cell_type": "markdown",
   "id": "2d884969",
   "metadata": {},
   "source": [
    "## Notes & next steps\n",
    "\n",
    "- We classified 'Marine' and TEU/container series as the shipping focus. All other transport modes are labeled 'Others' (kept in the full `df` but filtered out in `df_ship`).\n",
    "- Destinations are preserved when explicit (To/From United States, To/From rest of world). For aggregated port TEU series we assigned 'Canada (ports total)'. Rows without explicit destinations were labeled 'Other'.\n",
    "- Next steps: convert TEU-series to a common unit where appropriate, normalize by seasonality, and join trade-dollar series if you want to analyze container throughput vs. trade value. I can add example seasonal decomposition or export an analysis-ready parquet if you'd like."
   ]
  }
 ],
 "metadata": {
  "kernelspec": {
   "display_name": "environment_name",
   "language": "python",
   "name": "python3"
  },
  "language_info": {
   "codemirror_mode": {
    "name": "ipython",
    "version": 3
   },
   "file_extension": ".py",
   "mimetype": "text/x-python",
   "name": "python",
   "nbconvert_exporter": "python",
   "pygments_lexer": "ipython3",
   "version": "3.12.12"
  }
 },
 "nbformat": 4,
 "nbformat_minor": 5
}
